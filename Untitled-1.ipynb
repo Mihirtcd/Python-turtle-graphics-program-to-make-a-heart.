{
 "cells": [
  {
   "cell_type": "code",
   "execution_count": 5,
   "metadata": {},
   "outputs": [
    {
     "name": "stdout",
     "output_type": "stream",
     "text": [
      "   December 2012\n",
      "Mo Tu We Th Fr Sa Su\n",
      "                1  2\n",
      " 3  4  5  6  7  8  9\n",
      "10 11 12 13 14 15 16\n",
      "17 18 19 20 21 22 23\n",
      "24 25 26 27 28 29 30\n",
      "31\n",
      "\n"
     ]
    }
   ],
   "source": [
    "#python graphics\n",
    "import calendar\n",
    "yy = 2012\n",
    "mm = 12\n",
    "print(calendar.month(yy,mm))\n"
   ]
  },
  {
   "cell_type": "code",
   "execution_count": 4,
   "metadata": {},
   "outputs": [],
   "source": [
    "#python turtle graphics \n",
    "import turtle\n",
    "turtle.speed(10)\n",
    "turtle.pensize(3)\n",
    "def func():\n",
    "    for i in range(200):\n",
    "        turtle.right(1)\n",
    "        turtle.forward(1)\n",
    "\n",
    "turtle.color('black','red')\n",
    "turtle.begin_fill()\n",
    "\n",
    "turtle.left(140)\n",
    "turtle.forward(111.65)\n",
    "\n",
    "func()\n",
    "turtle.left(120)\n",
    "func()\n",
    "turtle.forward(111.65)\n",
    "turtle.end_fill()\n",
    "turtle.hideturtle()\n",
    "turtle.done()\n"
   ]
  }
 ],
 "metadata": {
  "kernelspec": {
   "display_name": "Python 3.9.12 ('base')",
   "language": "python",
   "name": "python3"
  },
  "language_info": {
   "codemirror_mode": {
    "name": "ipython",
    "version": 3
   },
   "file_extension": ".py",
   "mimetype": "text/x-python",
   "name": "python",
   "nbconvert_exporter": "python",
   "pygments_lexer": "ipython3",
   "version": "3.9.12"
  },
  "orig_nbformat": 4,
  "vscode": {
   "interpreter": {
    "hash": "b99b6d7923f42227e77157a9f9e13c7d18efde46331e623f022de7f48e96f2ec"
   }
  }
 },
 "nbformat": 4,
 "nbformat_minor": 2
}
